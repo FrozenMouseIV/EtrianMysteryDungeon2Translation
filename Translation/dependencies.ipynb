{
 "cells": [
  {
   "metadata": {},
   "cell_type": "code",
   "source": "pip install torch torchvision torchaudio --index-url https://download.pytorch.org/whl/cu126",
   "id": "59517c027e688ea9",
   "outputs": [],
   "execution_count": null
  },
  {
   "metadata": {},
   "cell_type": "code",
   "source": "pip install sentencepiece",
   "id": "b48413339c89d896",
   "outputs": [],
   "execution_count": null
  },
  {
   "metadata": {},
   "cell_type": "code",
   "source": "pip install sacremoses",
   "id": "251f183192aae994",
   "outputs": [],
   "execution_count": null
  },
  {
   "metadata": {},
   "cell_type": "code",
   "source": "pip install transformers",
   "id": "ff55538e81e0be1",
   "outputs": [],
   "execution_count": null
  }
 ],
 "metadata": {
  "kernelspec": {
   "display_name": "Python 3",
   "language": "python",
   "name": "python3"
  },
  "language_info": {
   "codemirror_mode": {
    "name": "ipython",
    "version": 2
   },
   "file_extension": ".py",
   "mimetype": "text/x-python",
   "name": "python",
   "nbconvert_exporter": "python",
   "pygments_lexer": "ipython2",
   "version": "2.7.6"
  }
 },
 "nbformat": 4,
 "nbformat_minor": 5
}
